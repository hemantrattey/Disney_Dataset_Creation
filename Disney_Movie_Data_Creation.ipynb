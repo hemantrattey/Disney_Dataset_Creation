{
 "cells": [
  {
   "cell_type": "code",
   "execution_count": 12,
   "metadata": {},
   "outputs": [],
   "source": [
    "import pandas as pd\n",
    "from bs4 import BeautifulSoup as bs\n",
    "import requests"
   ]
  },
  {
   "cell_type": "code",
   "execution_count": 14,
   "metadata": {},
   "outputs": [],
   "source": [
    "response = requests.get('https://en.wikipedia.org/wiki/Toy_Story_3')\n",
    "soup = bs(response.text)\n",
    "\n",
    "#print(soup.prettify())"
   ]
  },
  {
   "cell_type": "code",
   "execution_count": 21,
   "metadata": {},
   "outputs": [],
   "source": [
    "info_box = soup.find(class_='infobox vevent')\n",
    "\n",
    "info_rows = info_box.find_all('tr')\n",
    "# for row in info_rows:\n",
    "#     print(row.prettify())\n"
   ]
  },
  {
   "cell_type": "code",
   "execution_count": 27,
   "metadata": {},
   "outputs": [
    {
     "name": "stdout",
     "output_type": "stream",
     "text": [
      "{'title': 'Toy Story 3', 'Directed by': 'Lee Unkrich', 'Produced by': 'Darla K. Anderson', 'Screenplay by': 'Michael Arndt', 'Story by': ['John Lasseter', 'Andrew Stanton', 'Lee Unkrich'], 'Starring': ['Tom Hanks', 'Tim Allen', 'Joan Cusack', 'Don Rickles', 'Wallace Shawn', 'John Ratzenberger', 'Estelle Harris', 'Blake Clark', 'Jeff Pidgeon', 'Ned Beatty', 'Michael Keaton', 'Jodi Benson', 'John Morris'], 'Music by': 'Randy Newman', 'Cinematography': ['Jeremy Lasky', 'Kim White'], 'Edited by': 'Ken Schretzmann', 'Production company': ['Walt Disney Pictures', 'Pixar Animation Studios'], 'Distributed by': 'Walt Disney Studios Motion Pictures', 'Release date': ['June 12, 2010 ( 2010-06-12 ) ( Taormina Film Fest )', 'June 18, 2010 ( 2010-06-18 ) (United States)'], 'Running time': '103 minutes [1]', 'Country': 'United States', 'Language': 'English', 'Budget': '$200 million [1]', 'Box office': '$1.067 billion [1]'}\n"
     ]
    }
   ],
   "source": [
    "def get_content_value(row):\n",
    "    if row.find('li'):\n",
    "        return [li.get_text(\" \", strip = True).replace('\\xa0', ' ') for li in row.find_all('li')]\n",
    "    else:\n",
    "        return row.find('td').get_text(\" \", strip = True).replace('\\xa0', ' ')\n",
    "\n",
    "movie_info = {}\n",
    "for index, row in enumerate(info_rows): \n",
    "    if index == 0:\n",
    "        movie_info['title'] = row.find('th').get_text(\" \", strip = True)\n",
    "    elif index == 1:\n",
    "        continue\n",
    "    else:\n",
    "        key = row.find('th').get_text(\" \", strip = True)\n",
    "        value = get_content_value(row)\n",
    "        movie_info[key] = value\n",
    "print(movie_info)"
   ]
  },
  {
   "cell_type": "markdown",
   "metadata": {},
   "source": [
    "## Getting list of all Disney Movies"
   ]
  },
  {
   "cell_type": "code",
   "execution_count": 57,
   "metadata": {},
   "outputs": [],
   "source": [
    "response = requests.get('https://en.wikipedia.org/wiki/List_of_Walt_Disney_Pictures_films')\n",
    "soup = bs(response.text)\n",
    "\n",
    "#print(soup.prettify())"
   ]
  },
  {
   "cell_type": "code",
   "execution_count": 65,
   "metadata": {},
   "outputs": [
    {
     "data": {
      "text/plain": [
       "<i><a href=\"/wiki/Academy_Award_Review_of_Walt_Disney_Cartoons\" title=\"Academy Award Review of Walt Disney Cartoons\">Academy Award Review of Walt Disney Cartoons</a></i>"
      ]
     },
     "execution_count": 65,
     "metadata": {},
     "output_type": "execute_result"
    }
   ],
   "source": [
    "movies = soup.select('.wikitable.sortable i')\n",
    "movies[0]"
   ]
  },
  {
   "cell_type": "code",
   "execution_count": 67,
   "metadata": {},
   "outputs": [],
   "source": [
    "def get_content_value(row):\n",
    "    \n",
    "    if row.find('li'):\n",
    "        return [li.get_text(\" \", strip = True).replace('\\xa0', ' ') for li in row.find_all('li')]\n",
    "    else:\n",
    "        return row.find('td').get_text(\" \", strip = True).replace('\\xa0', ' ')\n",
    "\n",
    "\n",
    "def get_info_box(url):\n",
    "    \n",
    "    response = requests.get(url)\n",
    "    soup = bs(response.text)\n",
    "    \n",
    "    info_box = soup.find(class_='infobox vevent')\n",
    "    info_rows = info_box.find_all('tr')\n",
    "\n",
    "    movie_info = {}\n",
    "    for index, row in enumerate(info_rows): \n",
    "        if index == 0:\n",
    "            movie_info['title'] = row.find('th').get_text(\" \", strip = True)\n",
    "        elif index == 1:\n",
    "            continue\n",
    "        else:\n",
    "            key = row.find('th').get_text(\" \", strip = True)\n",
    "            value = get_content_value(row)\n",
    "            movie_info[key] = value\n",
    "    \n",
    "    return movie_info"
   ]
  },
  {
   "cell_type": "code",
   "execution_count": 78,
   "metadata": {},
   "outputs": [],
   "source": [
    "response = requests.get('https://en.wikipedia.org/wiki/List_of_Walt_Disney_Pictures_films')\n",
    "soup = bs(response.text)\n",
    "movies = soup.select('.wikitable.sortable i a')\n",
    "movie_info_list = []\n",
    "\n",
    "base_url = 'https://en.wikipedia.org/'\n",
    "for index, movie in enumerate(movies):\n",
    "    if index == 5:\n",
    "        break\n",
    "    try:\n",
    "        link = movie['href']\n",
    "        full_url = base_url + link\n",
    "        title = movie.get_text()\n",
    "\n",
    "        movie_info_list.append(get_info_box(full_url))\n",
    "\n",
    "    except Exception as e:\n",
    "        print(movie.get_text())\n",
    "        print(e)"
   ]
  },
  {
   "cell_type": "code",
   "execution_count": 80,
   "metadata": {},
   "outputs": [
    {
     "data": {
      "text/plain": [
       "446"
      ]
     },
     "execution_count": 80,
     "metadata": {},
     "output_type": "execute_result"
    }
   ],
   "source": [
    "len(movies)"
   ]
  },
  {
   "cell_type": "code",
   "execution_count": null,
   "metadata": {},
   "outputs": [],
   "source": []
  }
 ],
 "metadata": {
  "kernelspec": {
   "display_name": "Python 3",
   "language": "python",
   "name": "python3"
  },
  "language_info": {
   "codemirror_mode": {
    "name": "ipython",
    "version": 3
   },
   "file_extension": ".py",
   "mimetype": "text/x-python",
   "name": "python",
   "nbconvert_exporter": "python",
   "pygments_lexer": "ipython3",
   "version": "3.9.0"
  }
 },
 "nbformat": 4,
 "nbformat_minor": 4
}
